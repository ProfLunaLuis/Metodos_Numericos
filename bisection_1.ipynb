{
  "nbformat": 4,
  "nbformat_minor": 0,
  "metadata": {
    "colab": {
      "name": "Untitled1.ipynb",
      "provenance": [],
      "authorship_tag": "ABX9TyMtoDk6mO+r3nUzox0KjHfe",
      "include_colab_link": true
    },
    "kernelspec": {
      "name": "python3",
      "display_name": "Python 3"
    },
    "language_info": {
      "name": "python"
    }
  },
  "cells": [
    {
      "cell_type": "markdown",
      "metadata": {
        "id": "view-in-github",
        "colab_type": "text"
      },
      "source": [
        "<a href=\"https://colab.research.google.com/github/ProfLunaLuis/Metodos_Numericos/blob/main/bisection_1.ipynb\" target=\"_parent\"><img src=\"https://colab.research.google.com/assets/colab-badge.svg\" alt=\"Open In Colab\"/></a>"
      ]
    },
    {
      "cell_type": "code",
      "source": [
        "\n",
        "# Defining Function\n",
        "def f(x):\n",
        "    return -5*x-9\n",
        "\n",
        "\n",
        "# Input Section\n",
        "x0 = input('First Guess: ')\n",
        "x1 = input('Second Guess: ')\n",
        "e = input('Tolerable Error: ')\n",
        "\n",
        "# Converting input to float\n",
        "x0 = float(x0)\n",
        "x1 = float(x1)\n",
        "e = float(e)\n",
        "\n",
        "#Note: You can combine above two section like this\n",
        "# x0 = float(input('First Guess: '))\n",
        "# x1 = float(input('Second Guess: '))\n",
        "# e = float(input('Tolerable Error: '))\n",
        "\n",
        "# Implementing Bisection Method\n",
        "def bisection(x0,x1,e):\n",
        "    step = 1\n",
        "    print('\\n\\n*** BISECTION METHOD IMPLEMENTATION ***')\n",
        "    condition = True\n",
        "    while condition:\n",
        "        x2 = (x0 + x1)/2\n",
        "        print('Iteration-%d, x2 = %0.6f and f(x2) = %0.6f' % (step, x2, f(x2)))\n",
        "\n",
        "        if f(x0) * f(x2) < 0:\n",
        "            x1 = x2\n",
        "        else:\n",
        "            x0 = x2\n",
        "        \n",
        "        step = step + 1\n",
        "        condition = abs(f(x2)) > e\n",
        "\n",
        "    print('\\nRequired Root is : %0.8f' % x2)\n",
        "\n",
        "\n",
        "# Checking Correctness of initial guess values and bisecting\n",
        "if f(x0) * f(x1) > 0.0:\n",
        "    print('Given guess values do not bracket the root.')\n",
        "    print('Try Again with different guess values.')\n",
        "else:\n",
        "    bisection(x0,x1,e)\n",
        "\n"
      ],
      "metadata": {
        "colab": {
          "base_uri": "https://localhost:8080/"
        },
        "id": "ZIcjYXIkL7VR",
        "outputId": "475bde04-af82-4664-e22d-b8b0e251c806"
      },
      "execution_count": 9,
      "outputs": [
        {
          "output_type": "stream",
          "name": "stdout",
          "text": [
            "First Guess: -3\n",
            "Second Guess: 0\n",
            "Tolerable Error: 0.001\n",
            "\n",
            "\n",
            "*** BISECTION METHOD IMPLEMENTATION ***\n",
            "Iteration-1, x2 = -1.500000 and f(x2) = -1.500000\n",
            "Iteration-2, x2 = -2.250000 and f(x2) = 2.250000\n",
            "Iteration-3, x2 = -1.875000 and f(x2) = 0.375000\n",
            "Iteration-4, x2 = -1.687500 and f(x2) = -0.562500\n",
            "Iteration-5, x2 = -1.781250 and f(x2) = -0.093750\n",
            "Iteration-6, x2 = -1.828125 and f(x2) = 0.140625\n",
            "Iteration-7, x2 = -1.804688 and f(x2) = 0.023438\n",
            "Iteration-8, x2 = -1.792969 and f(x2) = -0.035156\n",
            "Iteration-9, x2 = -1.798828 and f(x2) = -0.005859\n",
            "Iteration-10, x2 = -1.801758 and f(x2) = 0.008789\n",
            "Iteration-11, x2 = -1.800293 and f(x2) = 0.001465\n",
            "Iteration-12, x2 = -1.799561 and f(x2) = -0.002197\n",
            "Iteration-13, x2 = -1.799927 and f(x2) = -0.000366\n",
            "\n",
            "Required Root is : -1.79992676\n"
          ]
        }
      ]
    }
  ]
}