{
  "nbformat": 4,
  "nbformat_minor": 0,
  "metadata": {
    "colab": {
      "provenance": [],
      "authorship_tag": "ABX9TyOBFxNeSw26N0A+1bf80krn",
      "include_colab_link": true
    },
    "kernelspec": {
      "name": "python3",
      "display_name": "Python 3"
    },
    "language_info": {
      "name": "python"
    }
  },
  "cells": [
    {
      "cell_type": "markdown",
      "metadata": {
        "id": "view-in-github",
        "colab_type": "text"
      },
      "source": [
        "<a href=\"https://colab.research.google.com/github/ProfLunaLuis/Metodos_Numericos/blob/main/Seidel_ej3_while.ipynb\" target=\"_parent\"><img src=\"https://colab.research.google.com/assets/colab-badge.svg\" alt=\"Open In Colab\"/></a>"
      ]
    },
    {
      "cell_type": "code",
      "execution_count": 7,
      "metadata": {
        "colab": {
          "base_uri": "https://localhost:8080/"
        },
        "id": "WeEBZmuMxOKR",
        "outputId": "5d58bcbb-b9b7-4d1f-f683-9f5eeeabf1ca"
      },
      "outputs": [
        {
          "output_type": "stream",
          "name": "stdout",
          "text": [
            "[ 0.5  8.  -6. ]\n",
            "[[ 0.          0.          0.        ]\n",
            " [ 2.7        10.25       -4.3       ]\n",
            " [ 0.22        7.46666667 -6.89      ]\n",
            " [ 0.51766667  7.84333333 -5.83733333]\n",
            " [ 0.5476      8.04538889 -5.9722    ]\n",
            " [ 0.49370222  7.98546667 -6.01859778]\n",
            " [ 0.50104689  7.99694963 -5.99583378]\n",
            " [ 0.5010267   8.0008653  -5.9995993 ]\n",
            " [ 0.          0.          0.        ]\n",
            " [ 0.          0.          0.        ]]\n"
          ]
        }
      ],
      "source": [
        "import numpy as np\n",
        "import numpy.linalg as al\n",
        "from sympy import *\n",
        "from scipy import linalg\n",
        "\n",
        "A = np.array([[10, 2, -1],\n",
        "              [-3, -6, 2],\n",
        "              [1, 1, 5]])\n",
        "b = np.array([27, -61.5, -21.5])\n",
        "print(linalg.solve(A, b))\n",
        "\n",
        "#Declaramos C.I.\n",
        "xa0=np.array([0,0,0])\n",
        "xa_1=xa0[0]\n",
        "xa_2=xa0[1]\n",
        "xa_3=xa0[2]\n",
        "# Genero matriz donde se guardan datos\n",
        "A = np.zeros((10,3))\n",
        "tol=0.001\n",
        "norma_inf=1\n",
        "i=1\n",
        "while tol<norma_inf:\n",
        "#Calculo X1\n",
        " xn_1=(27-2*xa_2+xa_3)/10\n",
        " xn_2=(-61.5+3*xa_1-2*xa_3)/-6\n",
        " xn_3=(-21.5-xa_1-xa_2)/5\n",
        "# Guardo los datos de x1, x2, x3 y x4 en el vector xa\n",
        "#************************************\n",
        " xa=np.array([xn_1,xn_2,xn_3])\n",
        "#***********************************\n",
        " A[i]=xa\n",
        " # Calculo de las normas\n",
        " norma_inf=al.norm(A[i]-A[i-1],np.inf)/al.norm(A[i],np.inf)\n",
        " i=i+1\n",
        " xa_1=xa[0]\n",
        " xa_2=xa[1]\n",
        " xa_3=xa[2]\n",
        "\n",
        "print(A)\n",
        "\n"
      ]
    },
    {
      "cell_type": "code",
      "source": [],
      "metadata": {
        "id": "jq9Ftu0bozDj"
      },
      "execution_count": null,
      "outputs": []
    }
  ]
}