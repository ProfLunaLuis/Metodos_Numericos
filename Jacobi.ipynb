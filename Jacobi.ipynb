{
  "nbformat": 4,
  "nbformat_minor": 0,
  "metadata": {
    "colab": {
      "provenance": [],
      "authorship_tag": "ABX9TyOhnnI81hDu3wJGW1xljE9v",
      "include_colab_link": true
    },
    "kernelspec": {
      "name": "python3",
      "display_name": "Python 3"
    },
    "language_info": {
      "name": "python"
    }
  },
  "cells": [
    {
      "cell_type": "markdown",
      "metadata": {
        "id": "view-in-github",
        "colab_type": "text"
      },
      "source": [
        "<a href=\"https://colab.research.google.com/github/ProfLunaLuis/Metodos_Numericos/blob/main/Jacobi.ipynb\" target=\"_parent\"><img src=\"https://colab.research.google.com/assets/colab-badge.svg\" alt=\"Open In Colab\"/></a>"
      ]
    },
    {
      "cell_type": "code",
      "execution_count": 25,
      "metadata": {
        "colab": {
          "base_uri": "https://localhost:8080/"
        },
        "id": "zklzq4SAX2dR",
        "outputId": "1860b4b4-4f40-4cc0-f5df-616811e7fefd"
      },
      "outputs": [
        {
          "output_type": "stream",
          "name": "stdout",
          "text": [
            "[[ 0.          0.          0.          0.        ]\n",
            " [ 0.6         2.27272727 -1.1         1.875     ]\n",
            " [ 1.04727273  1.71590909 -0.80522727  0.88522727]\n",
            " [ 0.93263636  2.05330579 -1.04934091  1.13088068]\n",
            " [ 1.01519876  1.95369576 -0.96810863  0.97384272]\n",
            " [ 0.9889913   2.01141473 -1.0102859   1.02135051]\n",
            " [ 1.00319865  1.99224126 -0.99452174  0.99443374]\n",
            " [ 0.99812847  2.00230688 -1.00197223  1.00359431]\n",
            " [ 1.00062513  1.9986703  -0.99903558  0.99888839]\n",
            " [ 0.99967415  2.00044767 -1.00036916  1.00061919]\n",
            " [ 1.0001186   1.99976795 -0.99982814  0.99978598]]\n"
          ]
        }
      ],
      "source": [
        "import numpy as np\n",
        "from sympy import *\n",
        "#Declaramos C.I.\n",
        "xa=np.array([0,0,0,0])\n",
        "xa_1=xa[0]\n",
        "xa_2=xa[1]\n",
        "xa_3=xa[2]\n",
        "xa_4=xa[3]\n",
        "# Genero matriz donde se guardan datos\n",
        "A = np.zeros((11, 4))\n",
        "#\n",
        "for i in range(1, 11, 1):\n",
        " xn_1=1/10*xa_2-1/5*xa_3+3/5\n",
        " xn_2=1/11*xa_1+1/11*xa_3-3/11*xa_4+25/11\n",
        " xn_3=-1/5*xa_1+1/10*xa_2+1/10*xa_4-11/10\n",
        " xn_4=-3/8*xa_2+1/8*xa_3+15/8\n",
        "# Guardo los datos de x1, x2, x3 y x4 en el vector xa\n",
        " xa=np.array([xn_1,xn_2,xn_3,xn_4])\n",
        "# En la fila i se guardan los datos de x1, x2, x3 y x4\n",
        " A[i]=xa\n",
        "#Accedo a los datos del vector para que se usen en el siguiente ciclo\n",
        " xa_1=xa[0]\n",
        " xa_2=xa[1]\n",
        " xa_3=xa[2]\n",
        " xa_4=xa[3]\n",
        "#\n",
        "print(A)\n",
        "\n"
      ]
    }
  ]
}