{
  "nbformat": 4,
  "nbformat_minor": 0,
  "metadata": {
    "colab": {
      "name": "Untitled3.ipynb",
      "provenance": [],
      "authorship_tag": "ABX9TyPKzl9jDLHtZtiPmapMEgDz",
      "include_colab_link": true
    },
    "kernelspec": {
      "name": "python3",
      "display_name": "Python 3"
    },
    "language_info": {
      "name": "python"
    }
  },
  "cells": [
    {
      "cell_type": "markdown",
      "metadata": {
        "id": "view-in-github",
        "colab_type": "text"
      },
      "source": [
        "<a href=\"https://colab.research.google.com/github/ProfLunaLuis/Metodos_Numericos/blob/main/ED_Graficas.ipynb\" target=\"_parent\"><img src=\"https://colab.research.google.com/assets/colab-badge.svg\" alt=\"Open In Colab\"/></a>"
      ]
    },
    {
      "cell_type": "code",
      "source": [
        "from sympy.interactive import printing\n",
        "printing.init_printing(use_latex=True)\n",
        "from sympy import *\n",
        "import sympy as sp\n",
        "#m=68.1\n",
        "#c=12.5\n",
        "#g=9.81\n",
        "t, m, c, g=sp.symbols('t, m, c, g')\n",
        "v=sp.Function('v')(t)\n",
        "diffeq=Eq(v.diff(t)+(c/m)*v,g)\n",
        "display(diffeq)\n",
        "dsolve(diffeq,v, hint='default', simplify=True)\n",
        "\n"
      ],
      "metadata": {
        "id": "MjZ2acWZlRPK",
        "outputId": "fbb860f7-2b2e-4e50-d326-c4e5f19b8c49",
        "colab": {
          "base_uri": "https://localhost:8080/",
          "height": 95
        }
      },
      "execution_count": 19,
      "outputs": [
        {
          "output_type": "display_data",
          "data": {
            "text/plain": [
              "c⋅v(t)   d           \n",
              "────── + ──(v(t)) = g\n",
              "  m      dt          "
            ],
            "image/png": "[encoded data removed]",
            "text/latex": "$\\displaystyle \\frac{c v{\\left(t \\right)}}{m} + \\frac{d}{d t} v{\\left(t \\right)} = g$"
          },
          "metadata": {}
        },
        {
          "output_type": "execute_result",
          "data": {
            "text/plain": [
              "                ⎛     t⎞\n",
              "              c⋅⎜C₁ - ─⎟\n",
              "                ⎝     m⎠\n",
              "       g⋅m + ℯ          \n",
              "v(t) = ─────────────────\n",
              "               c        "
            ],
            "image/png": "[encoded data removed]",
            "text/latex": "$\\displaystyle v{\\left(t \\right)} = \\frac{g m + e^{c \\left(C_{1} - \\frac{t}{m}\\right)}}{c}$"
          },
          "metadata": {},
          "execution_count": 19
        }
      ]
    },
    {
      "cell_type": "code",
      "source": [
        "\n",
        "\n",
        "import matplotlib.pyplot as plt\n",
        "import numpy as np\n",
        "t = np.linspace(0,100,100)\n",
        "m=68.1\n",
        "c=12.5\n",
        "g=9.81\n",
        "v1 = (g*m)/(c)*(1-np.exp((-c/m)*t))\n",
        "#y2= (12-5*x)/2\n",
        "plt.plot(t, v1, '-r')\n",
        "plt.title('Grafica velocidad paracaidista')\n",
        "plt.xlabel('x', color='#1C2833')\n",
        "plt.ylabel('y', color='#1C2833')\n",
        "plt.grid()\n",
        "\n"
      ],
      "metadata": {
        "id": "AhxmqXMwukUp",
        "outputId": "d3a60274-b0fe-4eaa-b668-e83c513cda2a",
        "colab": {
          "base_uri": "https://localhost:8080/",
          "height": 295
        }
      },
      "execution_count": 24,
      "outputs": [
        {
          "output_type": "display_data",
          "data": {
            "text/plain": [
              "<Figure size 432x288 with 1 Axes>"
            ],
            "image/png": "[encoded data removed]"
          },
          "metadata": {
            "needs_background": "light"
          }
        }
      ]
    },
    {
      "cell_type": "code",
      "source": [
        "#Solucion aproximada \n",
        "va=0;\n",
        "t1=0;\n",
        "x=1;\n",
        "vn1=[]\n",
        "#t=2\n",
        "for t in range(0, 20, 2):\n",
        "  vn=va+(9.81-(12.5/68.1)*va)*(t-t1);\n",
        "  t1=t;\n",
        "  va=vn;\n",
        "#  vn1(x)=vn;\n",
        "  x=x+1;\n",
        "#display(type.va)\n"
      ],
      "metadata": {
        "id": "-mKqjELm0Zc1",
        "outputId": "8db26a48-bb52-46b1-f9de-165cc8d51196",
        "colab": {
          "base_uri": "https://localhost:8080/",
          "height": 201
        }
      },
      "execution_count": 33,
      "outputs": [
        {
          "output_type": "error",
          "ename": "AttributeError",
          "evalue": "ignored",
          "traceback": [
            "\u001b[0;31m---------------------------------------------------------------------------\u001b[0m",
            "\u001b[0;31mAttributeError\u001b[0m                            Traceback (most recent call last)",
            "\u001b[0;32m<ipython-input-33-624928170e17>\u001b[0m in \u001b[0;36m<module>\u001b[0;34m\u001b[0m\n\u001b[1;32m     11\u001b[0m \u001b[0;31m#  vn1(x)=vn;\u001b[0m\u001b[0;34m\u001b[0m\u001b[0;34m\u001b[0m\u001b[0;34m\u001b[0m\u001b[0m\n\u001b[1;32m     12\u001b[0m   \u001b[0mx\u001b[0m\u001b[0;34m=\u001b[0m\u001b[0mx\u001b[0m\u001b[0;34m+\u001b[0m\u001b[0;36m1\u001b[0m\u001b[0;34m;\u001b[0m\u001b[0;34m\u001b[0m\u001b[0;34m\u001b[0m\u001b[0m\n\u001b[0;32m---> 13\u001b[0;31m \u001b[0mtype\u001b[0m\u001b[0;34m.\u001b[0m\u001b[0mva\u001b[0m\u001b[0;34m\u001b[0m\u001b[0;34m\u001b[0m\u001b[0m\n\u001b[0m",
            "\u001b[0;31mAttributeError\u001b[0m: type object 'type' has no attribute 'va'"
          ]
        }
      ]
    }
  ]
}