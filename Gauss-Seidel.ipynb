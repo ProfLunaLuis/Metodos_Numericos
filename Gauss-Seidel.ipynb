{
  "nbformat": 4,
  "nbformat_minor": 0,
  "metadata": {
    "colab": {
      "provenance": [],
      "authorship_tag": "ABX9TyMdbWShZsb3QzOJJC+7Ri+E",
      "include_colab_link": true
    },
    "kernelspec": {
      "name": "python3",
      "display_name": "Python 3"
    },
    "language_info": {
      "name": "python"
    }
  },
  "cells": [
    {
      "cell_type": "markdown",
      "metadata": {
        "id": "view-in-github",
        "colab_type": "text"
      },
      "source": [
        "<a href=\"https://colab.research.google.com/github/ProfLunaLuis/Metodos_Numericos/blob/main/Gauss-Seidel.ipynb\" target=\"_parent\"><img src=\"https://colab.research.google.com/assets/colab-badge.svg\" alt=\"Open In Colab\"/></a>"
      ]
    },
    {
      "cell_type": "code",
      "execution_count": 6,
      "metadata": {
        "colab": {
          "base_uri": "https://localhost:8080/"
        },
        "id": "WeEBZmuMxOKR",
        "outputId": "982cb7c8-1d0d-4940-9e58-118ad3bee710"
      },
      "outputs": [
        {
          "output_type": "stream",
          "name": "stdout",
          "text": [
            "[ 3.16641683 -2.50259357  6.99495562]\n",
            "[[ 0.          0.          0.        ]\n",
            " [ 2.61666667 -2.79452381  7.08410952]\n",
            " [ 2.99578984 -2.49633516  7.0115733 ]\n",
            " [ 3.00089371 -2.49951677  7.00013597]\n",
            " [ 3.00002517 -2.49999453  6.9999733 ]\n",
            " [ 2.9999984  -2.50000112  6.99999922]\n",
            " [ 0.          0.          0.        ]\n",
            " [ 0.          0.          0.        ]\n",
            " [ 0.          0.          0.        ]\n",
            " [ 0.          0.          0.        ]]\n"
          ]
        }
      ],
      "source": [
        "import numpy as np\n",
        "import numpy.linalg as al\n",
        "from sympy import *\n",
        "from scipy import linalg\n",
        "\n",
        "A = np.array([[3, 0.1, -0.2],\n",
        "              [0.1, 7, -0.3],\n",
        "              [0.3, -0.2, 10]])\n",
        "b = np.array([7.85, -19.3, 71.4])\n",
        "print(linalg.solve(A, b))\n",
        "\n",
        "#Declaramos C.I.\n",
        "xa0=np.array([0,0,0])\n",
        "xa_1=xa0[0]\n",
        "xa_2=xa0[1]\n",
        "xa_3=xa0[2]\n",
        "# Genero matriz donde se guardan datos\n",
        "A = np.zeros((10,3))\n",
        "tol=0.0001\n",
        "norma_inf=1\n",
        "i=1\n",
        "while tol<norma_inf:\n",
        "#Calculo X1\n",
        " xn_1=(7.85+0.1*xa_2+0.2*xa_3)/3\n",
        "#Guardar el valor de X1n\n",
        " xn_2=(-19.3-0.1*xn_1+0.3*xa_3)/7\n",
        "#\n",
        " xn_3=(71.4-0.3*xa_1+0.2*xn_2)/10\n",
        "# Guardo los datos de x1, x2, x3 y x4 en el vector xa\n",
        "#************************************\n",
        " xa=np.array([xn_1,xn_2,xn_3])\n",
        "#***********************************\n",
        " A[i]=xa\n",
        " # Calculo de las normas\n",
        " norma_inf=al.norm(A[i]-A[i-1],np.inf)/al.norm(A[i],np.inf)\n",
        " i=i+1\n",
        " xa_1=xa[0]\n",
        " xa_2=xa[1]\n",
        " xa_3=xa[2]\n",
        "\n",
        "print(A)\n",
        "\n"
      ]
    },
    {
      "cell_type": "code",
      "source": [],
      "metadata": {
        "id": "jq9Ftu0bozDj"
      },
      "execution_count": null,
      "outputs": []
    }
  ]
}