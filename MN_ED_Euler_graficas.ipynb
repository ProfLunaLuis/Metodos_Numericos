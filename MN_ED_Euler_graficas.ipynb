{
  "nbformat": 4,
  "nbformat_minor": 0,
  "metadata": {
    "colab": {
      "name": "Untitled3.ipynb",
      "provenance": [],
      "authorship_tag": "ABX9TyPZNH3s5fjmzqX3a8Z9gXDj",
      "include_colab_link": true
    },
    "kernelspec": {
      "name": "python3",
      "display_name": "Python 3"
    },
    "language_info": {
      "name": "python"
    }
  },
  "cells": [
    {
      "cell_type": "markdown",
      "metadata": {
        "id": "view-in-github",
        "colab_type": "text"
      },
      "source": [
        "<a href=\"https://colab.research.google.com/github/ProfLunaLuis/Metodos_Numericos/blob/main/MN_ED_Euler_graficas.ipynb\" target=\"_parent\"><img src=\"https://colab.research.google.com/assets/colab-badge.svg\" alt=\"Open In Colab\"/></a>"
      ]
    },
    {
      "cell_type": "code",
      "source": [
        ""
      ],
      "metadata": {
        "id": "lpDzkHi16VNt"
      },
      "execution_count": null,
      "outputs": []
    },
    {
      "cell_type": "code",
      "source": [
        "from sympy.interactive import printing\n",
        "printing.init_printing(use_latex=True)\n",
        "from sympy import *\n",
        "import sympy as sp\n",
        "#m=68.1\n",
        "#c=12.5\n",
        "#g=9.81\n",
        "t, m, c, g=sp.symbols('t, m, c, g')\n",
        "v=sp.Function('v')(t)\n",
        "diffeq=Eq(v.diff(t)+(c/m)*v,g)\n",
        "display(diffeq)\n",
        "dsolve(diffeq,v, hint='default', simplify=True)\n",
        "\n"
      ],
      "metadata": {
        "id": "MjZ2acWZlRPK",
        "outputId": "5a2870e9-2c99-440f-fddd-5954101dda45",
        "colab": {
          "base_uri": "https://localhost:8080/",
          "height": 95
        }
      },
      "execution_count": 1,
      "outputs": [
        {
          "output_type": "display_data",
          "data": {
            "text/plain": [
              "c⋅v(t)   d           \n",
              "────── + ──(v(t)) = g\n",
              "  m      dt          "
            ],
            "image/png": "[encoded data removed]",
            "text/latex": "$\\displaystyle \\frac{c v{\\left(t \\right)}}{m} + \\frac{d}{d t} v{\\left(t \\right)} = g$"
          },
          "metadata": {}
        },
        {
          "output_type": "execute_result",
          "data": {
            "text/plain": [
              "                ⎛     t⎞\n",
              "              c⋅⎜C₁ - ─⎟\n",
              "                ⎝     m⎠\n",
              "       g⋅m + ℯ          \n",
              "v(t) = ─────────────────\n",
              "               c        "
            ],
            "image/png": "[encoded data removed]",
            "text/latex": "$\\displaystyle v{\\left(t \\right)} = \\frac{g m + e^{c \\left(C_{1} - \\frac{t}{m}\\right)}}{c}$"
          },
          "metadata": {},
          "execution_count": 1
        }
      ]
    },
    {
      "cell_type": "code",
      "source": [
        "\n",
        "\n",
        "import matplotlib.pyplot as plt\n",
        "import numpy as np\n",
        "t = np.linspace(0,100,100)\n",
        "m=68.1\n",
        "c=12.5\n",
        "g=9.81\n",
        "v1 = (g*m)/(c)*(1-np.exp((-c/m)*t))\n",
        "#y2= (12-5*x)/2\n",
        "plt.plot(t, v1, '--r')\n",
        "plt.title('Grafica velocidad paracaidista')\n",
        "plt.xlabel('x', color='#1C2833')\n",
        "plt.ylabel('y', color='#1C2833')\n",
        "plt.grid()\n",
        "\n"
      ],
      "metadata": {
        "id": "AhxmqXMwukUp",
        "outputId": "b9ffb9f8-c79f-47cc-894d-bff421e91349",
        "colab": {
          "base_uri": "https://localhost:8080/",
          "height": 295
        }
      },
      "execution_count": 2,
      "outputs": [
        {
          "output_type": "display_data",
          "data": {
            "text/plain": [
              "<Figure size 432x288 with 1 Axes>"
            ],
            "image/png": "[encoded data removed]"
          },
          "metadata": {
            "needs_background": "light"
          }
        }
      ]
    },
    {
      "cell_type": "code",
      "source": [
        "#Solucion aproximada \n",
        "va=0;\n",
        "t1=0;\n",
        "x=1;\n",
        "#datos = [0,0,0,0,0,0]\n",
        "datos = np.zeros(50)\n",
        "t2 = np.zeros(50)\n",
        "display(datos)\n",
        "\n",
        "for t in range(0, 100, 2):\n",
        "  vn=va+(9.81-(12.5/68.1)*va)*(t-t1);\n",
        "  datos[x-1] = vn;\n",
        "  t2[x-1] = t;\n",
        "  t1=t;\n",
        "  va=vn;\n",
        "  x=x+1;\n",
        "#display(datos)\n",
        "#print(len(datos))\n",
        "#t1 = [0,2,4,6,8]\n",
        "#t2 = np.linspace(0,50,21)\n",
        "#print(t2)\n",
        "plt.plot(t2, datos,'-g')\n",
        "t3 = np.linspace(0,100,100)\n",
        "m=68.1\n",
        "c=12.5\n",
        "g=9.81\n",
        "v1 = (g*m)/(c)*(1-np.exp((-c/m)*t3))\n",
        "#y2= (12-5*x)/2\n",
        "plt.plot(t3, v1, '--r')\n",
        "plt.title('Grafica velocidad paracaidista')\n",
        "plt.xlabel('x', color='#1C2833')\n",
        "plt.ylabel('y', color='#1C2833')\n",
        "plt.grid()\n",
        "\n",
        "\n"
      ],
      "metadata": {
        "id": "-mKqjELm0Zc1",
        "outputId": "df8eb534-e3ae-4539-ba9a-4b0f27637204",
        "colab": {
          "base_uri": "https://localhost:8080/",
          "height": 348
        }
      },
      "execution_count": 116,
      "outputs": [
        {
          "output_type": "display_data",
          "data": {
            "text/plain": [
              "array([0., 0., 0., 0., 0., 0., 0., 0., 0., 0., 0., 0., 0., 0., 0., 0., 0.,\n",
              "       0., 0., 0., 0., 0., 0., 0., 0., 0., 0., 0., 0., 0., 0., 0., 0., 0.,\n",
              "       0., 0., 0., 0., 0., 0., 0., 0., 0., 0., 0., 0., 0., 0., 0., 0.])"
            ]
          },
          "metadata": {}
        },
        {
          "output_type": "display_data",
          "data": {
            "text/plain": [
              "<Figure size 432x288 with 1 Axes>"
            ],
            "image/png": "[encoded data removed]"
          },
          "metadata": {
            "needs_background": "light"
          }
        }
      ]
    }
  ]
}